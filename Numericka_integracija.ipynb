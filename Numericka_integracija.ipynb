{
 "cells": [
  {
   "cell_type": "markdown",
   "metadata": {},
   "source": [
    "# Numerička integracija\n",
    "\n",
    "Prvo implementiramo pravokutnu formulu"
   ]
  },
  {
   "cell_type": "code",
   "execution_count": 2,
   "metadata": {},
   "outputs": [],
   "source": [
    "def pravokutna(f,a,b,N=50):\n",
    "    h =  (b-a)/N\n",
    "    x = np.linspace(a+h/2,b-h/2,N) \n",
    "    y = f(x)\n",
    "    h = (b - a)/N\n",
    "    Mn = np.sum(h*y)\n",
    "    return Mn"
   ]
  },
  {
   "cell_type": "markdown",
   "metadata": {},
   "source": [
    "Ovo je primjer implementacije trapezne formule"
   ]
  },
  {
   "cell_type": "code",
   "execution_count": 3,
   "metadata": {},
   "outputs": [],
   "source": [
    "def trapezna(f,a,b,N=50):\n",
    "    x = np.linspace(a,b,N+1) \n",
    "    y = f(x)\n",
    "    y_right = y[0:N] # lijevi rub intervala\n",
    "    y_left = y[1:N+1] # desni rub intervala\n",
    "    h = (b - a)/N\n",
    "    Tn = np.sum(h*(y_right + y_left)/2)\n",
    "    return Tn"
   ]
  },
  {
   "cell_type": "markdown",
   "metadata": {},
   "source": [
    "Ovo je primjer implementacije Simpsonove formule"
   ]
  },
  {
   "cell_type": "code",
   "execution_count": 4,
   "metadata": {},
   "outputs": [],
   "source": [
    "def Simpson(f,a,b,N=50):\n",
    "    h =  (b-a)/N\n",
    "    x = np.linspace(a,b,N+1) \n",
    "    y = f(x)\n",
    "    y[1:N] = 2*y[1:N]\n",
    "    Sn = h*np.sum(y)/6\n",
    "    x = np.linspace(a+h/2,b-h/2,N) # desni rub intervala\n",
    "    y=f(x)\n",
    "    Sn= Sn+2*h*np.sum(y)/3\n",
    "    return Sn"
   ]
  },
  {
   "cell_type": "markdown",
   "metadata": {},
   "source": [
    "Primijenit ćemo navedene formule na funkciju $f(x)=xe^{-x}\\cos(2x)$ na segmentu $[0,2\\pi]$"
   ]
  },
  {
   "cell_type": "code",
   "execution_count": 13,
   "metadata": {},
   "outputs": [
    {
     "name": "stdout",
     "output_type": "stream",
     "text": [
      "Pravokutna formula daje: -0.06524222215454034\n",
      "Trapezna formula daje: -0.2269939761611912\n",
      "Simpsonova formula daje: -0.11915947349009065\n"
     ]
    }
   ],
   "source": [
    "import numpy as np\n",
    "from numpy import exp\n",
    "from numpy import cos\n",
    "from numpy import pi\n",
    "print(\"Pravokutna formula daje:\" , pravokutna(lambda x : x*exp(-x)*cos(2*x),0,2*pi,6))\n",
    "print(\"Trapezna formula daje:\" , trapezna(lambda x : x*exp(-x)*cos(2*x),0,2*pi,6))\n",
    "print(\"Simpsonova formula daje:\" , Simpson(lambda x : x*exp(-x)*cos(2*x),0,2*pi,6))"
   ]
  },
  {
   "cell_type": "markdown",
   "metadata": {},
   "source": [
    "Unutar Pythonovih biblioteka ima već ugrađenih funkcija za numeričku integraciju. Za detalje možete pogledati [ovaj link](https://docs.scipy.org/doc/scipy/reference/integrate.html)"
   ]
  },
  {
   "cell_type": "code",
   "execution_count": 14,
   "metadata": {},
   "outputs": [
    {
     "name": "stdout",
     "output_type": "stream",
     "text": [
      "Value  from Numpy.trapz: -0.22699397616119124\n"
     ]
    }
   ],
   "source": [
    "x = np.linspace(0,2*pi,7)\n",
    "y=x*exp(-x)*cos(2*x)\n",
    "print(\"Value  from Numpy.trapz:\", np.trapz(y, x))"
   ]
  },
  {
   "cell_type": "markdown",
   "metadata": {},
   "source": [
    "## Rekurzivno trapezno pravilo\n",
    "Sada ćemo implementirati rekurzivno ptrapezno pravilo kako je to opisano u nastavnim materijalima."
   ]
  },
  {
   "cell_type": "code",
   "execution_count": 15,
   "metadata": {},
   "outputs": [],
   "source": [
    "def trap_rec(f,a,b, I0, k):\n",
    "    if k==1:\n",
    "        I1=(f(a)+f(b))*(b-a)/2.0\n",
    "    else:\n",
    "        n=2**(k-2)\n",
    "        h=(b-a)/n\n",
    "        x=a+h/2.0\n",
    "        new_points_sum=0.0\n",
    "        for j in range(n):\n",
    "            new_points_sum=new_points_sum+f(x)\n",
    "            x=x+h\n",
    "        I1=(I0+h*new_points_sum)/2.0\n",
    "    return I1"
   ]
  },
  {
   "cell_type": "code",
   "execution_count": 16,
   "metadata": {},
   "outputs": [
    {
     "name": "stdout",
     "output_type": "stream",
     "text": [
      "Aproksimacija za k=1: 0.03686184200729501\n",
      "Aproksimacija za k=2: 0.44493519888808997\n",
      "Aproksimacija za k=3: -0.35695084241677694\n",
      "Aproksimacija za k=4: -0.17847542120838847\n",
      "Aproksimacija za k=5: -0.13539684852415113\n",
      "Aproksimacija za k=6: -0.12538580799307902\n"
     ]
    }
   ],
   "source": [
    "approx1=trap_rec(lambda x : x*exp(-x)*cos(2*x),0, 2*pi, 0.0,1)\n",
    "\n",
    "print(\"Aproksimacija za k=1:\", approx1)\n",
    "\n",
    "approx2=trap_rec(lambda x : x*exp(-x)*cos(2*x),0, 2*pi,approx1,2)\n",
    "print(\"Aproksimacija za k=2:\", approx2)\n",
    "\n",
    "approx3=trap_rec(lambda x : x*exp(-x)*cos(2*x),0, 2*pi,approx2,3)\n",
    "print(\"Aproksimacija za k=3:\", approx3)    \n",
    "\n",
    "approx4=trap_rec(lambda x :x*exp(-x)*cos(2*x),0, 2*pi,approx3,4)\n",
    "\n",
    "print(\"Aproksimacija za k=4:\", approx4)  \n",
    "approx5 =trap_rec(lambda x :x*exp(-x)*cos(2*x),0, 2*pi,approx4,5)\n",
    "print(\"Aproksimacija za k=5:\", approx5)    \n",
    "    \n",
    "approx6=trap_rec(lambda x :x*exp(-x)*cos(2*x),0, 2*pi,approx5,6)\n",
    "print(\"Aproksimacija za k=6:\", approx6)    \n",
    "    \n",
    "    "
   ]
  },
  {
   "cell_type": "markdown",
   "metadata": {},
   "source": [
    "Implementirajmo funkciju koja računa rekurzivnim trapeznim pravilom vrijednost integrala do na zadanu točnost (pod time se podrazumijeva da je $|Ik-I_{k-1}|<\\varepsilon$ gdje je $\\varepsilon$ unaprijed dana točnost. "
   ]
  },
  {
   "cell_type": "code",
   "execution_count": 17,
   "metadata": {},
   "outputs": [],
   "source": [
    "def trap_rec_eps(f,a,b, eps):\n",
    "    I0=0.0\n",
    "    I1= trap_rec(f,a,b,I0, 1)\n",
    "    k=1\n",
    "    while np.abs(I1-I0)>eps:\n",
    "        I0=I1\n",
    "        k=k+1\n",
    "        I1= trap_rec(f,a,b,I0,k)\n",
    "    return k, I1"
   ]
  },
  {
   "cell_type": "code",
   "execution_count": 10,
   "metadata": {},
   "outputs": [
    {
     "name": "stdout",
     "output_type": "stream",
     "text": [
      "Aproksimacija je: -0.12212260771307237\n",
      "Broj nivoa (k) je: 16\n"
     ]
    }
   ],
   "source": [
    "k, approx=trap_rec_eps(lambda x :x*exp(-x)*cos(2*x),0, 2*pi,1.0e-8)\n",
    "print(\"Aproksimacija je:\", approx)\n",
    "print(\"Broj nivoa (k) je:\", k)"
   ]
  },
  {
   "cell_type": "markdown",
   "metadata": {},
   "source": [
    "## Rombergov algoritam"
   ]
  },
  {
   "cell_type": "markdown",
   "metadata": {},
   "source": [
    "Sada ćemo primijeniti Richardsonovu ekstrapolaciju kako bismo poboljšali točnost kompozitnog trapeznog pravila. Takav postupak nazivamo Rombergov algoritam. Za primjenu Rombergovog algoritma možemo koristiti već ugrađenu funkciju"
   ]
  },
  {
   "cell_type": "code",
   "execution_count": 18,
   "metadata": {},
   "outputs": [
    {
     "name": "stdout",
     "output_type": "stream",
     "text": [
      "Romberg integration of <function vectorize1.<locals>.vfunc at 0x000002824F924E18> from [0, 3.141592653589793]\n",
      "\n",
      " Steps  StepSize   Results\n",
      "     1  3.141593  0.000000 \n",
      "     2  1.570796  1.570796  2.094395 \n",
      "     4  0.785398  1.896119  2.004560  1.998571 \n",
      "     8  0.392699  1.974232  2.000269  1.999983  2.000006 \n",
      "    16  0.196350  1.993570  2.000017  2.000000  2.000000  2.000000 \n",
      "    32  0.098175  1.998393  2.000001  2.000000  2.000000  2.000000  2.000000 \n",
      "\n",
      "The final result is 2.000000000001321 after 33 function evaluations.\n"
     ]
    }
   ],
   "source": [
    "from scipy import integrate\n",
    "from numpy import sin\n",
    "\n",
    "result = integrate.romberg(sin, 0, pi, show=True)"
   ]
  },
  {
   "cell_type": "code",
   "execution_count": null,
   "metadata": {},
   "outputs": [],
   "source": []
  }
 ],
 "metadata": {
  "kernelspec": {
   "display_name": "Python 3",
   "language": "python",
   "name": "python3"
  },
  "language_info": {
   "codemirror_mode": {
    "name": "ipython",
    "version": 3
   },
   "file_extension": ".py",
   "mimetype": "text/x-python",
   "name": "python",
   "nbconvert_exporter": "python",
   "pygments_lexer": "ipython3",
   "version": "3.6.4"
  }
 },
 "nbformat": 4,
 "nbformat_minor": 2
}
