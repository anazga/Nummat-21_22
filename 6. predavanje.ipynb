{
 "cells": [
  {
   "cell_type": "markdown",
   "metadata": {},
   "source": [
    "# Analiza pogreške rješenja\n",
    "\n",
    "## Primjer 1"
   ]
  },
  {
   "cell_type": "markdown",
   "metadata": {},
   "source": [
    "Pogledajmo primjer iz prezentacije\n",
    "$$A=\\begin{bmatrix} 10 & 7& 8& 7\\\\ 7& 5& 6& 5\\\\ 8 & 6& 10& 9\\\\ 7& 5& 9& 10\\end{bmatrix}\\quad b=\\begin{bmatrix}32\\\\ 23\\\\ 33\\\\ 31\\end{bmatrix}$$"
   ]
  },
  {
   "cell_type": "code",
   "execution_count": 4,
   "metadata": {},
   "outputs": [
    {
     "name": "stdout",
     "output_type": "stream",
     "text": [
      "x= [1. 1. 1. 1.]\n"
     ]
    }
   ],
   "source": [
    "import numpy as np\n",
    "A = np.array([[10, 7, 8, 7], [7, 5, 6, 5], [8, 6, 10, 9], [7, 5, 9, 10]])\n",
    "b = np.array([32,23, 33, 31])\n",
    "x = np.linalg.solve(A,b)\n",
    "print(\"x=\",x)"
   ]
  },
  {
   "cell_type": "markdown",
   "metadata": {},
   "source": [
    "Ako uzmemo da je desna strana sada b=\\begin{bmatrix}32.1\\\\ 22.9\\\\ 33.1\\\\ 30.9\\end{bmatrix}"
   ]
  },
  {
   "cell_type": "code",
   "execution_count": 5,
   "metadata": {},
   "outputs": [
    {
     "name": "stdout",
     "output_type": "stream",
     "text": [
      "x= [  9.2 -12.6   4.5  -1.1]\n"
     ]
    }
   ],
   "source": [
    "c=np.array([32.1,22.9, 33.1, 30.9])\n",
    "x = np.linalg.solve(A,c)\n",
    "print(\"x=\",x)"
   ]
  },
  {
   "cell_type": "code",
   "execution_count": 35,
   "metadata": {},
   "outputs": [
    {
     "name": "stdout",
     "output_type": "stream",
     "text": [
      "Eigenvalues= [1.01500484e-02 8.43107150e-01 3.85805746e+00 3.02886853e+01]\n"
     ]
    }
   ],
   "source": [
    "eig=np.linalg.eigvalsh(A)\n",
    "print(\"Eigenvalues=\", eig)"
   ]
  },
  {
   "cell_type": "markdown",
   "metadata": {},
   "source": [
    "Ako sada rješavamo sustav s matricom \n",
    "$$B=\\begin{bmatrix} 10 & 7& 8.1 & 7.2 \\\\ 7.08 & 5.04 & 6& 5\\\\ 8 & 5.98 & 9.89 & 9\\\\ 6.99 & 4.99 & 9 & 9.98\\end{bmatrix}\\quad b=\\begin{bmatrix}32\\\\ 23\\\\ 33\\\\ 31\\end{bmatrix}$$"
   ]
  },
  {
   "cell_type": "code",
   "execution_count": 7,
   "metadata": {},
   "outputs": [
    {
     "name": "stdout",
     "output_type": "stream",
     "text": [
      "x= [-81. 137. -34.  22.]\n"
     ]
    }
   ],
   "source": [
    "import numpy as np\n",
    "B = np.array([[10, 7, 8.1, 7.2], [7.08, 5.04, 6, 5], [8, 5.98, 9.89, 9], [6.99, 4.99, 9, 9.98]])\n",
    "b = np.array([32,23, 33, 31])\n",
    "x = np.linalg.solve(B,b)\n",
    "print(\"x=\",x)"
   ]
  },
  {
   "cell_type": "markdown",
   "metadata": {},
   "source": [
    "Matrica A je loše uvjetovana!"
   ]
  },
  {
   "cell_type": "code",
   "execution_count": 8,
   "metadata": {},
   "outputs": [
    {
     "name": "stdout",
     "output_type": "stream",
     "text": [
      "2984.0927016755236\n"
     ]
    }
   ],
   "source": [
    "print(np.linalg.cond(A,2))"
   ]
  },
  {
   "cell_type": "markdown",
   "metadata": {},
   "source": [
    "# Primjer 2"
   ]
  },
  {
   "cell_type": "markdown",
   "metadata": {},
   "source": [
    "Pogledajmo sljedeći primjer\n",
    "$$A=\\begin{bmatrix} 121734 & 169217& 176624& 166662\\\\ 169217& 235222& 245505& 231653\\\\ 176624 & 245505& 256423& 242029\\\\ 166662& 231653& 242029& 228474\\end{bmatrix}\\quad b=\\begin{bmatrix}634237\\\\ 881597\\\\ 920581\\\\ 868818\\end{bmatrix}$$"
   ]
  },
  {
   "cell_type": "code",
   "execution_count": 9,
   "metadata": {},
   "outputs": [
    {
     "name": "stdout",
     "output_type": "stream",
     "text": [
      "x= [1.00170481 0.99897034 0.99957186 1.00025394]\n"
     ]
    }
   ],
   "source": [
    "import numpy as np\n",
    "A = np.array([[121734, 169217, 176624, 166662], [169217, 235222, 245505, 231653], [176624, 245505, 256423, 242029],\n",
    "              [166662, 231653, 242029, 228474]])\n",
    "b = np.array([634237,881597, 920581, 868818])\n",
    "x = np.linalg.solve(A,b)\n",
    "print(\"x=\",x)"
   ]
  },
  {
   "cell_type": "markdown",
   "metadata": {},
   "source": [
    "Ako uzmemo da je desna strana sada b=\\begin{bmatrix}634237\\\\ 881597\\\\ 920580\\\\ 868818\\end{bmatrix}"
   ]
  },
  {
   "cell_type": "code",
   "execution_count": 11,
   "metadata": {},
   "outputs": [
    {
     "name": "stdout",
     "output_type": "stream",
     "text": [
      "x= [16316026.0332614  -9854426.48680124 -4097527.25568108  2430330.02081108]\n"
     ]
    }
   ],
   "source": [
    "c = np.array([634237,881597, 920580, 868818])\n",
    "x = np.linalg.solve(A,c)\n",
    "print(\"x=\",x)"
   ]
  },
  {
   "cell_type": "code",
   "execution_count": 12,
   "metadata": {},
   "outputs": [
    {
     "name": "stdout",
     "output_type": "stream",
     "text": [
      "Eigenvalues= [1.06252778e-08 5.05278814e-01 2.21551535e+02 8.41630943e+05]\n"
     ]
    }
   ],
   "source": [
    "eig=np.linalg.eigvalsh(A)\n",
    "print(\"Eigenvalues=\", eig)"
   ]
  },
  {
   "cell_type": "markdown",
   "metadata": {},
   "source": [
    "Matrica je loše uvjetovana!"
   ]
  },
  {
   "cell_type": "code",
   "execution_count": 13,
   "metadata": {},
   "outputs": [
    {
     "name": "stdout",
     "output_type": "stream",
     "text": [
      "79288124894603.9\n"
     ]
    }
   ],
   "source": [
    "print(np.linalg.cond(A,2))"
   ]
  },
  {
   "cell_type": "markdown",
   "metadata": {},
   "source": [
    "# Uvjetovanost  regularne matrice"
   ]
  },
  {
   "cell_type": "markdown",
   "metadata": {},
   "source": [
    "Ako imamo matricu \n",
    "$$A=\\begin{bmatrix} 4.1 & 2.8\\\\ 9.7 & 6.6\\end{bmatrix} \\quad  b=\\begin{bmatrix} 4.1\\\\ 9.7 \\end{bmatrix}$$"
   ]
  },
  {
   "cell_type": "code",
   "execution_count": 3,
   "metadata": {},
   "outputs": [
    {
     "name": "stdout",
     "output_type": "stream",
     "text": [
      "x= [1. 0.]\n"
     ]
    }
   ],
   "source": [
    "import numpy as np\n",
    "A = np.array([[4.1, 2.8], [9.7, 6.6]])\n",
    "b = np.array([4.1,9.7])\n",
    "x = np.linalg.solve(A,b)\n",
    "print(\"x=\",x)"
   ]
  },
  {
   "cell_type": "markdown",
   "metadata": {},
   "source": [
    "Ako uzmemo\n",
    "$$c=\\begin{bmatrix} 4.11\\\\ 9.70 \\end{bmatrix}$$"
   ]
  },
  {
   "cell_type": "code",
   "execution_count": 39,
   "metadata": {},
   "outputs": [
    {
     "name": "stdout",
     "output_type": "stream",
     "text": [
      "X= [0.34 0.97]\n"
     ]
    }
   ],
   "source": [
    "c=np.array([4.11,9.70])\n",
    "x = np.linalg.solve(A,c)\n",
    "print(\"x=\",x)"
   ]
  },
  {
   "cell_type": "markdown",
   "metadata": {},
   "source": [
    "Izračunajmo uvjetovanost ove matrice u normi 1!"
   ]
  },
  {
   "cell_type": "code",
   "execution_count": 14,
   "metadata": {},
   "outputs": [
    {
     "name": "stdout",
     "output_type": "stream",
     "text": [
      "119861531700941.33\n"
     ]
    }
   ],
   "source": [
    "print(np.linalg.cond(A,1))"
   ]
  },
  {
   "cell_type": "markdown",
   "metadata": {},
   "source": [
    "# Skaliranje nekad može \"poboljšati\" uvjetovanost matrice"
   ]
  },
  {
   "cell_type": "code",
   "execution_count": 15,
   "metadata": {},
   "outputs": [
    {
     "name": "stdout",
     "output_type": "stream",
     "text": [
      "x= [ 0.00096365 -0.698496    0.9004233 ]\n"
     ]
    },
    {
     "data": {
      "text/plain": [
       "array([400.    ,   1.3816,   1.9273])"
      ]
     },
     "execution_count": 15,
     "metadata": {},
     "output_type": "execute_result"
    }
   ],
   "source": [
    "import numpy as np\n",
    "A = np.array([[-4000, 2000, 2000], [2000, 0.78125, 0], [2000, 0, 0]])\n",
    "b = np.array([400,1.3816, 1.9273])\n",
    "x = np.linalg.solve(A,b)\n",
    "print(\"x=\",x)\n",
    "#np.matmul(A,x)"
   ]
  },
  {
   "cell_type": "code",
   "execution_count": 16,
   "metadata": {},
   "outputs": [],
   "source": [
    "D = np.array([[0.0005, 0, 0], [0, 1, 0], [0, 0, 1]])"
   ]
  },
  {
   "cell_type": "code",
   "execution_count": 17,
   "metadata": {},
   "outputs": [
    {
     "name": "stdout",
     "output_type": "stream",
     "text": [
      "G= [[-0.001    1.       1.     ]\n",
      " [ 1.       0.78125  0.     ]\n",
      " [ 1.       0.       0.     ]]\n",
      "Uvjetovanost matrice A je 13990.621644372157\n",
      "Uvjetovanost matrice G je 4.656945664193629\n"
     ]
    }
   ],
   "source": [
    "B=np.matmul(D,A)\n",
    "G=np.matmul(B,D)\n",
    "print(\"G=\", G)\n",
    "print(\"Uvjetovanost matrice A je\", np.linalg.cond(A,2))\n",
    "print(\"Uvjetovanost matrice G je\",np.linalg.cond(G,2))"
   ]
  },
  {
   "cell_type": "code",
   "execution_count": null,
   "metadata": {},
   "outputs": [],
   "source": []
  }
 ],
 "metadata": {
  "kernelspec": {
   "display_name": "Python 3",
   "language": "python",
   "name": "python3"
  },
  "language_info": {
   "codemirror_mode": {
    "name": "ipython",
    "version": 3
   },
   "file_extension": ".py",
   "mimetype": "text/x-python",
   "name": "python",
   "nbconvert_exporter": "python",
   "pygments_lexer": "ipython3",
   "version": "3.6.4"
  }
 },
 "nbformat": 4,
 "nbformat_minor": 2
}
