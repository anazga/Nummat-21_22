{
 "cells": [
  {
   "cell_type": "markdown",
   "metadata": {},
   "source": [
    "# 1. laboratorijska vježba iz Numeričke matematike\n",
    "\n",
    "Ime i prezime: *Napisati ime i prezime*"
   ]
  },
  {
   "cell_type": "markdown",
   "metadata": {},
   "source": [
    "1 . Napišite primjer jedne računske operacije koju ste izvršili u računalu, a da pri tome ne dobijete vrijednost koja se dobije egzaktno, računajući na papiru"
   ]
  },
  {
   "cell_type": "code",
   "execution_count": 1,
   "metadata": {},
   "outputs": [],
   "source": [
    "# Ovdje ide rješenje"
   ]
  },
  {
   "cell_type": "markdown",
   "metadata": {},
   "source": [
    "   2 . Napišite primjer računske operacije koja u računalu daje izlaz *inf* i operacije koja kao izlaz daje *nan*"
   ]
  },
  {
   "cell_type": "code",
   "execution_count": 2,
   "metadata": {},
   "outputs": [],
   "source": [
    "# Ovdje ide rješenje"
   ]
  },
  {
   "cell_type": "markdown",
   "metadata": {},
   "source": [
    "3 a). U računalu rješavamo kvadratnu jednadžbu.\n",
    "  $$(x-10^{10})(x-10^{-10})=0$$\n",
    "  odnosno jednadžbu \n",
    "  $$x^2+(10^{10}-10^{-10})x+1=0$$\n",
    "  Odredite rješenja koristeći formulu \n",
    "  $$x_{1/2}=\\frac{-b\\pm\\sqrt{b^2-4ac}}{2a}$$\n",
    " "
   ]
  },
  {
   "cell_type": "code",
   "execution_count": 1,
   "metadata": {},
   "outputs": [],
   "source": [
    "# Ovdje ide rješenje"
   ]
  },
  {
   "cell_type": "markdown",
   "metadata": {},
   "source": [
    "3 b) Razlikuju li se rješenja od onih koje računamo na papiru? Kako možemo poboljšati računanje rješenja (osim da koristimo naredbu roots)?"
   ]
  },
  {
   "cell_type": "code",
   "execution_count": null,
   "metadata": {},
   "outputs": [],
   "source": [
    "# Ovdje ide rješenje"
   ]
  },
  {
   "cell_type": "markdown",
   "metadata": {},
   "source": [
    "4 . Prepostavimo da imamo singularan sustav\n",
    " $$x+2y=3$$\n",
    " $$2x+3y=6$$\n",
    " \n",
    " Pomnožite drugu jednadžbu s 0.3. te potom riješite sustav koristeći [link](https://numpy.org/doc/stable/reference/generated/numpy.linalg.solve.html).\n",
    " Zašto smo dobili samo jedno rješenje, a u realnosti ih ima beskonačno mnogo?"
   ]
  },
  {
   "cell_type": "code",
   "execution_count": 2,
   "metadata": {},
   "outputs": [],
   "source": [
    "# ovdje ide rješenje"
   ]
  },
  {
   "cell_type": "markdown",
   "metadata": {},
   "source": [
    "% napisati rečenicu objašnjenja\n"
   ]
  },
  {
   "cell_type": "markdown",
   "metadata": {},
   "source": [
    "5 a. Odredite $PLU$ dekompoziciju matrice \n",
    "$$A=\\begin{bmatrix} 2 & 1 & 3 & 4\\\\ -2 & 1 &-1& -2\\\\ 4 & 4& 5& 11\\\\ -2 & 1 & -7 & -1\n",
    "\\end{bmatrix}$$\n",
    "koristeći biblioteku SciPy, te ispišite matrice $P$ (odnosno $P_1=P^T$), $L$, $U$. tako da je $P_1A=LU.$"
   ]
  },
  {
   "cell_type": "code",
   "execution_count": 8,
   "metadata": {},
   "outputs": [],
   "source": [
    "#Ovdje ide rješenje"
   ]
  },
  {
   "cell_type": "markdown",
   "metadata": {},
   "source": [
    "5 b.Koristeći već ugrađenu funkciju iz biblioteke scipy za rješavanje trokutastih sustava riješite sustav $Ax=b$ ako je \n",
    "$$b=\\begin{bmatrix}10\\\\ -4\\\\ 24\\\\-9\\end{bmatrix}$$\n",
    "odnosno riješite\n",
    "$$Ly=P_1b$$\n",
    "$$Ux=y$$\n",
    "Pomoć je \n",
    "[ovaj link](https://docs.scipy.org/doc/scipy/reference/generated/scipy.linalg.solve_triangular.html#scipy.linalg.solve_triangular)."
   ]
  },
  {
   "cell_type": "code",
   "execution_count": 9,
   "metadata": {},
   "outputs": [],
   "source": [
    "# Ovdje ide rješenje"
   ]
  },
  {
   "cell_type": "markdown",
   "metadata": {},
   "source": [
    "6 . Riješite sustav  $Ax=b$, gdje je $A$ trodijagonalna matrica \n",
    "$$A=\\begin{bmatrix} 2 & -1 & 0 & 0 & 0\\\\ -1 & 2 &-1& 0 & 0\\\\ 0& -1& 2& -1& 0\\\\ 0 & 0 & -1 & 2 & -1\\\\\n",
    "0& 0& 0 &-1& 2\n",
    "\\end{bmatrix}\\quad b=\\begin{bmatrix} 1 \\\\ 0\\\\0\\\\0\\\\ 1 \\end{bmatrix}$$\n",
    "koristeći funkciju definiranu [ovaj link](https://docs.scipy.org/doc/scipy/reference/generated/scipy.linalg.solve_banded.html#scipy.linalg.solve_banded)"
   ]
  },
  {
   "cell_type": "code",
   "execution_count": null,
   "metadata": {},
   "outputs": [],
   "source": [
    "#Ovdje ide rješenje"
   ]
  },
  {
   "cell_type": "markdown",
   "metadata": {},
   "source": [
    "7.a) Zadana je matrica \n",
    "$$A=\\begin{bmatrix} 49& 14 & 21\\\\ 14& 5 & 11\\\\ 21 & 11 & 43\\end{bmatrix}$$\n",
    "Odredite faktorizaciju Choleskog koristeći funkciju [link](https://numpy.org/doc/stable/reference/generated/numpy.linalg.cholesky.html)"
   ]
  },
  {
   "cell_type": "code",
   "execution_count": 3,
   "metadata": {},
   "outputs": [],
   "source": [
    "# ovdje ide rješenje"
   ]
  },
  {
   "cell_type": "markdown",
   "metadata": {},
   "source": [
    "7b)Zadana je matrica \n",
    "$$B=\\begin{bmatrix} 49& 14 & 21\\\\ 14& 5 & 11\\\\ 21 & 11 & 30\\end{bmatrix}$$\n",
    "Odredite faktorizaciju Choleskog, ako postoji."
   ]
  },
  {
   "cell_type": "code",
   "execution_count": 4,
   "metadata": {},
   "outputs": [],
   "source": [
    "# Ovdje ide rješenje"
   ]
  },
  {
   "cell_type": "markdown",
   "metadata": {},
   "source": [
    "8 . Ispiši svojstvene vrijednosti za matricu iz zadatka 7a i 7b. Koja je poveznica  s pozitivnom definitnošću?"
   ]
  },
  {
   "cell_type": "code",
   "execution_count": 6,
   "metadata": {},
   "outputs": [],
   "source": [
    "# ovdje ide rješenje"
   ]
  },
  {
   "cell_type": "markdown",
   "metadata": {},
   "source": [
    "9 . Zadan je vektor \n",
    "$$x=\\begin{bmatrix} 1\\\\ 2\\\\ 3\\\\ 4\\\\ 5\\end{bmatrix}$$\n",
    "Koristeći funkcije [ovaj link](https://numpy.org/doc/stable/reference/generated/numpy.linalg.norm.html) izračunajte normu ovog vektora i to 1-normu, $\\infty$-normu i euklidsku normu."
   ]
  },
  {
   "cell_type": "code",
   "execution_count": 7,
   "metadata": {},
   "outputs": [],
   "source": [
    "# ovdje ide rješenje"
   ]
  },
  {
   "cell_type": "markdown",
   "metadata": {},
   "source": [
    "10 .  Zadana je matrica \n",
    "$$F=\\begin{bmatrix}\n",
    "5&4&3&2&1\\\\\n",
    "4&4&3&2&1\\\\\n",
    "0& 3& 3& 2& 1\\\\\n",
    "0& 0& 2& 2& 1\\\\\n",
    "0& 0& 0&1& 1\n",
    "\\end{bmatrix}$$\n",
    "Odredite 1- normu ove matrice koristeći [ovaj link](https://numpy.org/doc/stable/reference/generated/numpy.linalg.norm.html) te uvjetovanost ove matrice u 1- normi"
   ]
  },
  {
   "cell_type": "markdown",
   "metadata": {},
   "source": [
    "11 . Zadana je matrica \n",
    "$$\\begin{bmatrix} -9000 & 8000 & 8000\\\\ 7000 & 1& 0\\\\ 7000 & 0  & 0\\end{bmatrix}$$\n",
    "Probajte pronaći dijagonalnu matricu $D$ tako da matrica $DAD$ ima manju (odnosno bolju) uvjetovanost, te ispišite tu uvjetovanost."
   ]
  },
  {
   "cell_type": "code",
   "execution_count": null,
   "metadata": {},
   "outputs": [],
   "source": []
  }
 ],
 "metadata": {
  "kernelspec": {
   "display_name": "Python 3",
   "language": "python",
   "name": "python3"
  },
  "language_info": {
   "codemirror_mode": {
    "name": "ipython",
    "version": 3
   },
   "file_extension": ".py",
   "mimetype": "text/x-python",
   "name": "python",
   "nbconvert_exporter": "python",
   "pygments_lexer": "ipython3",
   "version": "3.6.4"
  }
 },
 "nbformat": 4,
 "nbformat_minor": 2
}
