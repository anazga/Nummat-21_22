{
 "cells": [
  {
   "cell_type": "markdown",
   "metadata": {},
   "source": [
    "# 2. Labos uživo -Numerička matematika"
   ]
  },
  {
   "cell_type": "markdown",
   "metadata": {},
   "source": [
    "Ime i prezime: *nadopisati*"
   ]
  },
  {
   "cell_type": "markdown",
   "metadata": {},
   "source": [
    "1 . Zadani su podaci \n",
    "$$ \\begin{array}{c||c|c|c|c|c|c|}\n",
    "x_i & 0.15&2.3 &3.15 & 4.85 & 6.25 & 7.95\\\\ \\hline\n",
    "y_i &4.79867& 4.49013 & 4.2243 & 3.47313 & 2.66674 & 1.51909\\end{array}$$\n",
    "koji predstavljaju vrijednost funkcije $f(x)=4.8 \\cos \\frac{\\pi x}{20}$.  Odredite Lagrangeov interpolacijski polinom koristeći funkciju [link](https://docs.scipy.org/doc/scipy/reference/generated/scipy.interpolate.lagrange.html), te grafički prikažite polinom i funkciju f(x), na istom grafu. (za pomoc mozete pogledati i prvu Jupyter bilježnicu vezanu za interpolaciju u predavanjima)"
   ]
  },
  {
   "cell_type": "code",
   "execution_count": 7,
   "metadata": {},
   "outputs": [],
   "source": [
    "import numpy as np\n",
    "import matplotlib.pyplot as plt\n",
    "xData = np.array([0.15,2.3,3.15,4.85,6.25,7.95])\n",
    "yData = np.array([4.79867,4.49013,4.2243,3.47313,2.66674,1.51909])\n",
    "# dalje sami....\n",
    "# vektor za grafički prikaz xp = np.linspace(0.15, 7.95, 100) U ovom vektoru \n",
    "#izvrijednite funkciju i polonom i prikažite grafički."
   ]
  },
  {
   "cell_type": "markdown",
   "metadata": {},
   "source": [
    "  2 . Za podatke\n",
    "$$ \\begin{array}{c||c|c|c|c|c|c|}\n",
    "x_i & 0.1&0.2 &0.3 & 0.4 & 0.5 & 0.6& 0.7 & 0.8 & 0.9 & 1.0\\\\ \\hline\n",
    "y_i &1& 5 & 2 & 7 & 1 & 2 & 2 & 7 & 9 & 2\\end{array}$$\n",
    "formiraj vandermondeovu matricu te izračunaj koeficijente interpolacijskog polinoma, kao što je to napravljeno u početnoj Jupyter bilježnici s predavanja (1. bilježnica vezana za interpolaciju)."
   ]
  },
  {
   "cell_type": "code",
   "execution_count": 18,
   "metadata": {},
   "outputs": [],
   "source": [
    "x = np.array([0.0, 0.1,0.2,0.3,0.4,0.5,0.6, 0.7, 0.8, 0.9, 1.0])\n",
    "y = np.array([0.0,1,5,2,7,1,2, 2,7, 9, 2])\n"
   ]
  },
  {
   "cell_type": "markdown",
   "metadata": {},
   "source": [
    "3 . Za podatke iz 2. zadatka upotrijebite funkciju polyfit [link](https://numpy.org/doc/stable/reference/generated/numpy.polyfit.html), te aproksimirajte podatke, polinomom stupnja 1,2, 10. Ovo je aproksimacija u smislu najmanjih kvadrata! Dobivamo li za $n=10$ intepolacijski polinom? (vidi predavanja. skripta: Metoda najmanjih kvadrata)"
   ]
  },
  {
   "cell_type": "code",
   "execution_count": null,
   "metadata": {},
   "outputs": [],
   "source": []
  },
  {
   "cell_type": "markdown",
   "metadata": {},
   "source": [
    "\n",
    "4 .  Prema dostupnim informacijama na raspolaganju su nam sljedeći podaci o broju stanovnika u Hrvatskoj\n",
    "$$\\begin{array}{|c|c|} t_i& p_i \\\\ \\hline \\hline \\\\\n",
    "1964. & 4259680\\\\\n",
    "1969. & 4387000\\\\\n",
    "1974. & 4497000\\\\\n",
    "1979. & 4571000\\\\\n",
    "1984. & 4680000\\\\\n",
    "1989. & 4767000\\\\\n",
    "1994. & 4650000\\\\\n",
    "1999. & 4554000\\\\\n",
    "2004. & 4439000\\\\\n",
    "2009. & 4432001\n",
    "\\end{array}$$ \n",
    "\n",
    "Također poznata je informacija da je 2011. godine bilo $4456096$ stanovnika. Zadane podatke interpolirajte potom koristeći kubni splajn [link1](https://docs.scipy.org/doc/scipy/reference/generated/scipy.interpolate.CubicSpline.html#scipy.interpolate.CubicSpline) ili [link2](https://docs.scipy.org/doc/scipy/reference/generated/scipy.interpolate.interp1d.html) kao što je to napravljeno u Jupyter bilježnici s predavanja. Nacrtajte graf toga splajna, te procijenite broj stanovnika u 2011. Izračunajte apsolutnu pogrešku. (Za pomoć vidi Jupyter bilježnicu s predavanja o splajnovima, ili sam početak interpolacije)"
   ]
  },
  {
   "cell_type": "code",
   "execution_count": 20,
   "metadata": {},
   "outputs": [],
   "source": [
    "x=np.linspace(1964.0,2009.0,10)\n",
    "y=np.array([4259680.0, 4387000.0, 4497000.0, 4571000.0, 4680000.0, 4767000.0, 4650000.0, 4554000.0, 4439000.0, 4432001.0])\n",
    "# dalje sami"
   ]
  },
  {
   "cell_type": "markdown",
   "metadata": {},
   "source": [
    "5 .   Zadane podatke iz 4. zadatka  interpolirajte najprije koristeći polinomijalnu interpolaciju tako da iskoristite funkcije *lagrange* i *polyfit* koje ste koristili u 1. i 4. zadatku. Prikažite rezultate na zasebnim grafovima. Prolaze li podaci interpolacijskim točkama? (Za pomoc vidi kako je upotijebljena polyfit funkcija u predavanjima (skripta: metoda najmanjih kvadrata))"
   ]
  },
  {
   "cell_type": "code",
   "execution_count": null,
   "metadata": {},
   "outputs": [],
   "source": []
  },
  {
   "cell_type": "markdown",
   "metadata": {},
   "source": [
    "6 .  Sada za podatke iskoristite funkcije s predavanja te interpolirajte dane podatke u 4. zadatku Newtonovim interpolacijskim polinomom. implementacija s predavanja je dana u nastavku. (Za pomoc vidi Jupyter biljeznicu o Newtonovom interpolacijskom polinomu)"
   ]
  },
  {
   "cell_type": "code",
   "execution_count": 4,
   "metadata": {},
   "outputs": [],
   "source": [
    " import numpy as np\n",
    "import matplotlib.pyplot as plt\n",
    "\n",
    "def evalPoly(c,x,xu):\n",
    "    n = len(x) - 1 # Degree of polynomial\n",
    "    p = c[n]\n",
    "    for k in range(1,n+1):\n",
    "        p = c[n-k] + (xu -x[n-k])*p\n",
    "    return p\n",
    "\n",
    "def polycoef(x,y):\n",
    "    n = len(x) # Number of data points\n",
    "    c = y.copy()\n",
    "    for j in range(1,n):\n",
    "        c[j:n] = (c[j:n] - c[j-1])/(x[j:n] - x[j-1])\n",
    "    return c\n",
    "\n",
    "def NewtonInterp(x,y,xu): # ovdje kao ulaz idu podaci x i y a u točka xu se polinom izvrednjava\n",
    "    c = polycoef(x,y)\n",
    "    yu = evalPoly(c,x,xu)\n",
    "    #print(yu)\n",
    "    return yu"
   ]
  },
  {
   "cell_type": "markdown",
   "metadata": {},
   "source": [
    "7 .  Upotrijebite trapezno pravilo s predavanja ili ono iz vec implementiranih funkcija u bibliotekama da izračunate vrijednost integrala $\\int_0^{\\sqrt{\\pi}}2x^2\\cos(x^2)\\, dx$. Broj točaka uzmite po vlastitom izboru. ( za pomoc vidi Jupyter bilježnicu Numerička integracija)"
   ]
  },
  {
   "cell_type": "code",
   "execution_count": 1,
   "metadata": {},
   "outputs": [],
   "source": [
    "# Ovdje sada ide kod i idu grafovi , te dobiveni rezultati relativne pogreške"
   ]
  },
  {
   "cell_type": "markdown",
   "metadata": {},
   "source": [
    "8 . Upotrijebite Rombergov algoritam da izračunate $\\int_0^{\\sqrt{\\pi}}2x^2\\cos(x^2)\\, dx$ (za pomoc vidi Jupyter bilježnicu Numerička integracija)"
   ]
  },
  {
   "cell_type": "code",
   "execution_count": null,
   "metadata": {},
   "outputs": [],
   "source": []
  },
  {
   "cell_type": "markdown",
   "metadata": {},
   "source": [
    "9 . Prouči funkciju [link](https://numpy.org/doc/stable/reference/generated/numpy.linalg.lstsq.html) ili [link](https://docs.scipy.org/doc/scipy/reference/reference/generated/scipy.linalg.lstsq.html#scipy.linalg.lstsq) , upotrijebite neku od ovih funkcija na matricu $A$ i $y$ po izboru da riješite preodređeni sustav $Ax=y$. (smijete preuzeti i neki primjer koji smo radili na vježbama)"
   ]
  },
  {
   "cell_type": "code",
   "execution_count": null,
   "metadata": {},
   "outputs": [],
   "source": []
  },
  {
   "cell_type": "markdown",
   "metadata": {},
   "source": [
    "10 .  Odredi SVD dekompoziciju matrice $A$ odabrane po vlastitom izboru. (za pomoc vidi [link](https://nbviewer.org/github/anazga/FER3-nummat/blob/main/17.predavanje.ipynb)), potom ispišite singularne vrijednosti koristeći funkciju [link 2](https://docs.scipy.org/doc/scipy/reference/generated/scipy.linalg.svdvals.html). Nakon toga ispišite svojstvene vrijednosti matrice $A^TA$ koristeći funkciju [link 3](https://docs.scipy.org/doc/scipy/reference/reference/generated/scipy.linalg.eigvalsh.html#scipy.linalg.eigvalsh)"
   ]
  },
  {
   "cell_type": "code",
   "execution_count": null,
   "metadata": {},
   "outputs": [],
   "source": []
  }
 ],
 "metadata": {
  "kernelspec": {
   "display_name": "Python 3",
   "language": "python",
   "name": "python3"
  },
  "language_info": {
   "codemirror_mode": {
    "name": "ipython",
    "version": 3
   },
   "file_extension": ".py",
   "mimetype": "text/x-python",
   "name": "python",
   "nbconvert_exporter": "python",
   "pygments_lexer": "ipython3",
   "version": "3.6.4"
  }
 },
 "nbformat": 4,
 "nbformat_minor": 2
}
